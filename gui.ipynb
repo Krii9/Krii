{
 "cells": [
  {
   "cell_type": "markdown",
   "metadata": {},
   "source": [
    "# GUI paraugs\n",
    "IPython grafisko elementu saraksts pieejams šeit: https://ipywidgets.readthedocs.io/en/latest/examples/Widget%20List.html"
   ]
  },
  {
   "cell_type": "code",
   "execution_count": 1,
   "metadata": {},
   "outputs": [],
   "source": [
    "import ipywidgets as widgets\n",
    "from IPython.display import display"
   ]
  },
  {
   "cell_type": "code",
   "execution_count": 34,
   "metadata": {},
   "outputs": [
    {
     "data": {
      "application/vnd.jupyter.widget-view+json": {
       "model_id": "32ae363f7305425fbd3caf4e7f704f25",
       "version_major": 2,
       "version_minor": 0
      },
      "text/plain": [
       "HBox(children=(Text(value='', description='Your name'), Button(description='Enter name', style=ButtonStyle()))…"
      ]
     },
     "metadata": {},
     "output_type": "display_data"
    }
   ],
   "source": [
    "name_field = widgets.Text(description=\"Your name\")\n",
    "name_button = widgets.Button(description=\"Enter name\")\n",
    "money_field = widgets.IntText(description=\"How much money you have?\")\n",
    "money_button = widgets.Button(description=\"Enter money\")\n",
    "start_button = widgets.Button(description=\"Start\")\n",
    "textarea = widgets.Textarea(\n",
    "    value='Hello World',\n",
    "    placeholder='Type something',\n",
    "    description='Results',\n",
    "    disabled=True,\n",
    "    rows = 10\n",
    ")\n",
    "progress = widgets.IntProgress(\n",
    "    value=0,\n",
    "    min=0,\n",
    "    max=11,\n",
    "    step=1,\n",
    "    description='Working:',\n",
    "    bar_style='', # 'success', 'info', 'warning', 'danger' or ''\n",
    "    orientation='vertical'\n",
    ")\n",
    "human_name = ''\n",
    "human_money = 0\n",
    "\n",
    "hb = widgets.HBox()\n",
    "\n",
    "def big_process():\n",
    "    import time\n",
    "    textarea.value = ''\n",
    "    progress.bar_style = ''\n",
    "    progress.max = money_field.value\n",
    "    for i in range(0,money_field.value):\n",
    "        textarea.value += \"Result {}\\n\".format(i)\n",
    "        progress.value += 1\n",
    "        time.sleep(1)\n",
    "    textarea.value += \"Done\\n\"\n",
    "    progress.value = progress.max\n",
    "    progress.bar_style = 'success'\n",
    "\n",
    "def on_name_clicked(z):\n",
    "    global human_name\n",
    "    human_name = name_field.value\n",
    "    hb.children = [money_field, money_button]\n",
    "    \n",
    "def on_money_clicked(z):\n",
    "    global human_money\n",
    "    human_money = money_field.value\n",
    "    hb.children = [widgets.Label(\"Hi {}, you will start the game with {} Eur.\".format(human_name, human_money)), start_button]\n",
    "\n",
    "def on_start_clicked(z):\n",
    "    hb.children = [textarea, progress]\n",
    "    big_process()\n",
    "\n",
    "name_button.on_click(on_name_clicked)\n",
    "money_button.on_click(on_money_clicked)\n",
    "start_button.on_click(on_start_clicked)\n",
    "\n",
    "hb.children = [name_field, name_button]\n",
    "\n",
    "display(hb)"
   ]
  },
  {
   "cell_type": "code",
   "execution_count": null,
   "metadata": {},
   "outputs": [],
   "source": []
  }
 ],
 "metadata": {
  "kernelspec": {
   "display_name": "Python 3",
   "language": "python",
   "name": "python3"
  },
  "language_info": {
   "codemirror_mode": {
    "name": "ipython",
    "version": 3
   },
   "file_extension": ".py",
   "mimetype": "text/x-python",
   "name": "python",
   "nbconvert_exporter": "python",
   "pygments_lexer": "ipython3",
   "version": "3.7.3"
  }
 },
 "nbformat": 4,
 "nbformat_minor": 2
}
