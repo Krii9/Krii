{
 "cells": [
  {
   "cell_type": "code",
   "execution_count": 10,
   "metadata": {},
   "outputs": [
    {
     "data": {
      "application/vnd.jupyter.widget-view+json": {
       "model_id": "",
       "version_major": 2,
       "version_minor": 0
      },
      "text/plain": [
       "VBox()"
      ]
     },
     "metadata": {},
     "output_type": "display_data"
    },
    {
     "data": {
      "application/vnd.jupyter.widget-view+json": {
       "model_id": "",
       "version_major": 2,
       "version_minor": 0
      },
      "text/plain": [
       "HBox(children=(Button(description='Ievadi informāciju', style=ButtonStyle()),))"
      ]
     },
     "metadata": {},
     "output_type": "display_data"
    },
    {
     "data": {
      "text/plain": [
       "'You take the blue pill—the story ends, you wake up in your bed and believe whatever you want to believe You take the red pill—you stay in Wonderland and I show you how deep the rabbit-hole goes'"
      ]
     },
     "metadata": {},
     "output_type": "display_data"
    }
   ],
   "source": [
    "import ipywidgets as widgets\n",
    "from IPython.display import display\n",
    "import time\n",
    "import random\n",
    "from IPython.display import clear_output\n",
    "from traitlets import traitlets\n",
    "\n",
    "\n",
    "\n",
    "Info_poga=widgets.Button(description='Ievadi informāciju')\n",
    "\n",
    "Vards_teksts=widgets.Text(description=\"Jūsu vārds\")\n",
    "Varda_poga=widgets.Button(description=\"Apstiprināt vardu\")\n",
    "\n",
    "Uzvarda_teksts=widgets.Text(description=\"Jūsu Uzvards\")\n",
    "Uzvarda_poga=widgets.Button(description=\"Apstiprināt uzvardu\")\n",
    "Teksts_pamata=['Everyone user is bot except you, to find meaning of life, break out',\n",
    "               \"You take the blue pill—the story ends, you wake up in your bed and believe whatever you want to believe You take the red pill—you stay in Wonderland and I show you how deep the rabbit-hole goes\", \n",
    "               '01100110 01101111 01110010 01110100 01111001 00100000 01110100 01110111 01101111- to find meaning, break out']\n",
    "\n",
    "Adreses_teksts=widgets.Text(description=\"Jūsu adrese\")\n",
    "Adreses_poga=widgets.Button(description=\"Apstiprināt adresi\")\n",
    "\n",
    "Apstiprina_poga=widgets.Button(description=\"Paldis par info\")\n",
    "Break_sim=widgets.Button(description='Break',button_style='danger')\n",
    "Atgriesties=widgets.Button(description='Izlabot klūdu', button_style='info')\n",
    "Ar_atgriesanos=widgets.Button(description=\"Ievadi informāciju\", value=1)\n",
    "\n",
    "jv=widgets.Button(description=\"Jauna versija\")\n",
    "ajv=widgets.Button(description=\"Apstiprināt\")\n",
    "vb = widgets.VBox()\n",
    "hb=widgets.HBox()\n",
    "\n",
    "\n",
    "class LoadedButton(widgets.Button):\n",
    "\n",
    "    def __init__(self, value=None, *args, **kwargs):\n",
    "        super(LoadedButton, self).__init__(*args, **kwargs)\n",
    "        self.add_traits(value=traitlets.Any(value))\n",
    "        \n",
    "lb = LoadedButton(description=\"Apstiprini labošanu\", value=1)\n",
    "        \n",
    "def info_poga_1(z):\n",
    "    global Info\n",
    "    Vards_teksts.value = ''\n",
    "    hb.children = [Vards_teksts, Varda_poga]\n",
    "def Varda_poga_1(z):\n",
    "    global vards\n",
    "    Uzvarda_teksts.value= ''\n",
    "    vards = Vards_teksts.value\n",
    "    hb.children = [Uzvarda_teksts, Uzvarda_poga]\n",
    "    \n",
    "def Uzvarda_poga_1(z):\n",
    "    global Uzvards\n",
    "    Adreses_teksts.value=''\n",
    "    Uzvards = Uzvarda_teksts.value\n",
    "    hb.children = [Adreses_teksts, Adreses_poga]\n",
    "def Adreses_poga_1(z):\n",
    "    global Adrese \n",
    "    Adrese= Adreses_teksts.value\n",
    "    hb.children = [Apstiprina_poga]\n",
    "    time.sleep(2)\n",
    "    display(random.choice(Teksts_pamata))\n",
    "    time.sleep(2)\n",
    "    hb.children= [Break_sim, Atgriesties]\n",
    "    \n",
    "def ans(z):\n",
    "    \n",
    "    for i in range(0,10):\n",
    "        clear_output()\n",
    "        display (42)\n",
    "        time.sleep(1)\n",
    "        \n",
    "def ar_a (z):\n",
    "    global atgriešanas\n",
    "    hb.children= [lb]\n",
    "    time.sleep(2)\n",
    "    hb.children= [Ar_atgriesanos]\n",
    "def add_num(ex):\n",
    "    ex.value = ex.value+1\n",
    "    if ex.value >1:\n",
    "        vb.children=[jv]\n",
    "def jauna_versija(z):\n",
    "    global jauna_versija\n",
    "    Vards_teksts.value=\"\"\n",
    "    Uzvarda_teksts.value=\"\"\n",
    "    Adreses_teksts.value=\"\"\n",
    "    vb.children=[Vards_teksts, Uzvarda_teksts, Adreses_teksts]\n",
    "    hb.children=[ajv]\n",
    "def apstiprinats(z):\n",
    "    global apstiprinats\n",
    "    print('{},{}, - dati saglabāti sistēmā'. format(Vards_teksts.value, Uzvarda_teksts.value))\n",
    "    vb.children=[jv]\n",
    "\n",
    "    \n",
    "\n",
    "Info_poga.on_click(info_poga_1)\n",
    "Varda_poga.on_click(Varda_poga_1)\n",
    "Uzvarda_poga.on_click(Uzvarda_poga_1)\n",
    "Adreses_poga.on_click(Adreses_poga_1)\n",
    "Atgriesties.on_click(ar_a) \n",
    "Break_sim.on_click(ans)\n",
    "Ar_atgriesanos.on_click(info_poga_1)\n",
    "lb.on_click(add_num)\n",
    "jv.on_click(jauna_versija)\n",
    "ajv.on_click(apstiprinats)\n",
    "\n",
    "hb.children = [Info_poga]\n",
    "\n",
    "display(vb,hb)\n",
    "\n",
    "\n",
    "\n",
    "##notirit ievadito tekstu jaunaja riņķi\n"
   ]
  }
 ],
 "metadata": {
  "kernelspec": {
   "display_name": "Python 3",
   "language": "python",
   "name": "python3"
  },
  "language_info": {
   "codemirror_mode": {
    "name": "ipython",
    "version": 3
   },
   "file_extension": ".py",
   "mimetype": "text/x-python",
   "name": "python",
   "nbconvert_exporter": "python",
   "pygments_lexer": "ipython3",
   "version": "3.7.3"
  }
 },
 "nbformat": 4,
 "nbformat_minor": 2
}
