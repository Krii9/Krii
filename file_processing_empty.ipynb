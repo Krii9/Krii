{
 "cells": [
  {
   "cell_type": "markdown",
   "metadata": {},
   "source": [
    "# Failu apstrāde ar Python\n",
    "**Python 3**\n",
    "\n",
    "```python\n",
    "from pathlib import Path\n",
    "p = Path('.')\n",
    "z = [x for x in p.iterdir() if x.is_file()]\n",
    "```\n",
    "\n",
    "**Python 2.7**\n",
    "```python\n",
    "import os\n",
    "for filename in os.listdir('.'):\n",
    "    if filename.endswith(\".txt\") or filename.endswith(\".md\"): \n",
    "        print(filename)\n",
    "```"
   ]
  },
  {
   "cell_type": "code",
   "execution_count": 15,
   "metadata": {},
   "outputs": [],
   "source": [
    "import pandas as pd\n",
    "# pd.read_excel(...)\n",
    "# df[...].sum()\n",
    "import matplotlib\n",
    "import matplotlib.pyplot as plt"
   ]
  },
  {
   "cell_type": "code",
   "execution_count": 89,
   "metadata": {},
   "outputs": [
    {
     "data": {
      "image/png": "[encoded data removed]",
      "text/plain": [
       "<Figure size 432x288 with 1 Axes>"
      ]
     },
     "metadata": {
      "needs_background": "light"
     },
     "output_type": "display_data"
    }
   ],
   "source": [
    "fig, ax = plt.subplots()\n",
    "ax.plot(range(1,10), range(1,10))\n",
    "\n",
    "# ax.set(xlabel='years (s)', ylabel='Euros')\n",
    "# ax.grid()\n",
    "\n",
    "plt.show()"
   ]
  },
  {
   "cell_type": "markdown",
   "metadata": {},
   "source": [
    "### Dokumentācija\n",
    "* Pandas https://pandas.pydata.org/pandas-docs/stable/\n",
    "* Matplotlib https://matplotlib.org/gallery/index.html"
   ]
  }
 ],
 "metadata": {
  "kernelspec": {
   "display_name": "Python 3",
   "language": "python",
   "name": "python3"
  },
  "language_info": {
   "codemirror_mode": {
    "name": "ipython",
    "version": 3
   },
   "file_extension": ".py",
   "mimetype": "text/x-python",
   "name": "python",
   "nbconvert_exporter": "python",
   "pygments_lexer": "ipython3",
   "version": "3.7.3"
  }
 },
 "nbformat": 4,
 "nbformat_minor": 2
}
