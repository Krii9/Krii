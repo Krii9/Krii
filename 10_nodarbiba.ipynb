{
 "cells": [
  {
   "cell_type": "code",
   "execution_count": 37,
   "metadata": {},
   "outputs": [],
   "source": [
    "from random import randint\n",
    "\n",
    "class entity:\n",
    "    def __init__(self, name, money):\n",
    "        self.name = name\n",
    "        self.money = money\n",
    "        \n",
    "    def cashout(self, money):\n",
    "        if self.money < money:\n",
    "            a = self.money\n",
    "            self.money = 0\n",
    "            return a\n",
    "        else:\n",
    "            self.money -= money\n",
    "            return money\n",
    "    \n",
    "    def cashin(self, money):\n",
    "        self.money += money\n",
    "\n",
    "    def bet(self, **kwargs):\n",
    "        if 'amount' in kwargs:\n",
    "            amount = kwargs['amount']\n",
    "        else:\n",
    "            safe_bet = 0.5\n",
    "            if self.money * safe_bet > 10:\n",
    "                amount = randint(10, int(self.money * safe_bet))\n",
    "            else:\n",
    "                amount = self.money\n",
    "        return self.cashout(amount)\n",
    "\n",
    "\n",
    "class Game:\n",
    "    def __init__(self, bank, players):\n",
    "        self.bank = bank\n",
    "        self.players = []\n",
    "        self.players.extend(players)\n",
    "        self.pot = {}\n",
    "        self.roundn = 1\n",
    "    \n",
    "    def add_player(self, player):\n",
    "        self.players.append(player)\n",
    "    \n",
    "    def kick_player(self, name):\n",
    "        for i,p in enumerate(self.players):\n",
    "            if name == p.name:\n",
    "                del self.players[i]\n",
    "                return name\n",
    "        else:\n",
    "            return None\n",
    "    \n",
    "    def can_play(self):\n",
    "        return self.bank.money > 0 and len(self.players) > 0\n",
    "    \n",
    "    def potsum(self):\n",
    "        return sum([b for b in self.pot.values()])\n",
    "    \n",
    "    def take_bets(self):\n",
    "        for p in self.players:\n",
    "            self.pot[p.name] = p.bet()\n",
    "\n",
    "        bankbet = self.potsum() * 2\n",
    "        self.pot['bank'] = self.bank.bet(amount=bankbet) # bank doubles the pot\n",
    "\n",
    "        newround = \"NEW ROUND: {} \".format(self.roundn)\n",
    "        print(\"{:{fill}{align}{width}}\".format(newround, fill='=', align='^', width=40))\n",
    "    \n",
    "    def roll(self):\n",
    "        self.roll_result = randint(1,6) + randint(1,6)\n",
    "        return self.roll_result\n",
    "        \n",
    "    def print_stats(self):\n",
    "        print(\"{:8}:{:7.1f}\".format('Bank', self.bank.money))\n",
    "        for p in self.players:\n",
    "            print(\"{:8}:{:7.1f}\".format(p.name, p.money))\n",
    "        print()\n",
    "    \n",
    "    def end_round(self):\n",
    "        self.pot = {}\n",
    "        for p in self.players:\n",
    "            if p.money < 1:\n",
    "                self.kick_player(p.name)\n",
    "                print(\"{} has left the game.\".format(p.name))\n",
    "        if self.bank.money == 0:\n",
    "            print(\"The bank is broke.\")\n",
    "        self.roundn += 1\n",
    "\n",
    "    \n",
    "    def judge(self):\n",
    "        print(\"Pot {}: {}\\t Dice rolled: {}\".format(\n",
    "            self.potsum(), \n",
    "            self.pot, \n",
    "            self.roll_result))\n",
    "        potsum = self.potsum()\n",
    "        if self.roll_result in [6,7,8]:\n",
    "            self.bank.cashin(potsum)\n",
    "            print(\"Bank wins the pot: {}\".format(potsum))\n",
    "#             self.pot = 0\n",
    "        else:\n",
    "            d = {} # winnings distribution\n",
    "            for p,b in self.pot.items():\n",
    "                if p != 'bank':\n",
    "                    d[p] = b/potsum\n",
    "            d_sum = potsum / sum(d.values())\n",
    "\n",
    "            for p in self.players:\n",
    "                p.cashin(d[p.name] * d_sum)\n",
    "                print(\"{:>12} wins {:7.1f}\".format(p.name, d[p.name] * d_sum))"
   ]
  },
  {
   "cell_type": "code",
   "execution_count": 42,
   "metadata": {
    "scrolled": true
   },
   "outputs": [
    {
     "name": "stdout",
     "output_type": "stream",
     "text": [
      "Let the game begin!\n",
      "Bank    :  100.0\n",
      "Ansis   :  100.0\n",
      "Alise   :  100.0\n",
      "Boriss  :  100.0\n",
      "Biruta  :  100.0\n",
      "Cīrulis :  100.0\n",
      "Cecīlija:  100.0\n",
      "\n",
      "=============NEW ROUND: 1 ==============\n",
      "Pot 291: {'Ansis': 46, 'Alise': 13, 'Boriss': 46, 'Biruta': 36, 'Cīrulis': 15, 'Cecīlija': 35, 'bank': 100}\t Dice rolled: 11\n",
      "       Ansis wins    70.1\n",
      "       Alise wins    19.8\n",
      "      Boriss wins    70.1\n",
      "      Biruta wins    54.8\n",
      "     Cīrulis wins    22.9\n",
      "    Cecīlija wins    53.3\n",
      "Bank    :    0.0\n",
      "Ansis   :  124.1\n",
      "Alise   :  106.8\n",
      "Boriss  :  124.1\n",
      "Biruta  :  118.8\n",
      "Cīrulis :  107.9\n",
      "Cecīlija:  118.3\n",
      "\n",
      "The bank is broke.\n"
     ]
    }
   ],
   "source": [
    "g = Game(\n",
    "    entity(\"Bank\", 100), [\n",
    "        entity(\"Ansis\", 100), \n",
    "        entity(\"Alise\", 100),\n",
    "        entity(\"Boriss\", 100),\n",
    "        entity(\"Biruta\", 100),\n",
    "        entity(\"Cīrulis\", 100),\n",
    "        entity(\"Cecīlija\", 100),])\n",
    "\n",
    "print(\"Let the game begin!\")\n",
    "g.print_stats()\n",
    "while g.can_play():\n",
    "    g.take_bets()\n",
    "    g.roll()\n",
    "    g.judge()\n",
    "    g.print_stats()\n",
    "    g.end_round()"
   ]
  },
  {
   "cell_type": "code",
   "execution_count": null,
   "metadata": {},
   "outputs": [],
   "source": []
  },
  {
   "cell_type": "code",
   "execution_count": null,
   "metadata": {},
   "outputs": [],
   "source": []
  },
  {
   "cell_type": "code",
   "execution_count": null,
   "metadata": {},
   "outputs": [],
   "source": []
  },
  {
   "cell_type": "code",
   "execution_count": null,
   "metadata": {},
   "outputs": [],
   "source": []
  },
  {
   "cell_type": "code",
   "execution_count": null,
   "metadata": {},
   "outputs": [],
   "source": []
  },
  {
   "cell_type": "markdown",
   "metadata": {},
   "source": [
    "# interact"
   ]
  },
  {
   "cell_type": "code",
   "execution_count": 54,
   "metadata": {},
   "outputs": [],
   "source": [
    "from ipywidgets import interact"
   ]
  },
  {
   "cell_type": "code",
   "execution_count": 55,
   "metadata": {},
   "outputs": [],
   "source": [
    "import ipywidgets as widgets"
   ]
  },
  {
   "cell_type": "code",
   "execution_count": 67,
   "metadata": {},
   "outputs": [],
   "source": [
    "def far(c):\n",
    "    return round(9.0 / 5.0 * c + 32, 1)"
   ]
  },
  {
   "cell_type": "code",
   "execution_count": 57,
   "metadata": {},
   "outputs": [
    {
     "data": {
      "text/plain": [
       "68.0"
      ]
     },
     "execution_count": 57,
     "metadata": {},
     "output_type": "execute_result"
    }
   ],
   "source": [
    "far(20)"
   ]
  },
  {
   "cell_type": "code",
   "execution_count": 71,
   "metadata": {},
   "outputs": [
    {
     "data": {
      "application/vnd.jupyter.widget-view+json": {
       "model_id": "44814fcec33744a68d0fcc9404215306",
       "version_major": 2,
       "version_minor": 0
      },
      "text/plain": [
       "interactive(children=(FloatSlider(value=36.5, description='c', max=109.5, min=-36.5), Output()), _dom_classes=…"
      ]
     },
     "metadata": {},
     "output_type": "display_data"
    }
   ],
   "source": [
    "interact(far, c=36.5);"
   ]
  },
  {
   "cell_type": "code",
   "execution_count": 78,
   "metadata": {},
   "outputs": [],
   "source": [
    "def f(x):\n",
    "    return x"
   ]
  },
  {
   "cell_type": "code",
   "execution_count": 79,
   "metadata": {},
   "outputs": [
    {
     "data": {
      "application/vnd.jupyter.widget-view+json": {
       "model_id": "af26b88ef1fc4e5cb3ba98020b4ab39b",
       "version_major": 2,
       "version_minor": 0
      },
      "text/plain": [
       "interactive(children=(Text(value='Hello there', description='x'), Output()), _dom_classes=('widget-interact',)…"
      ]
     },
     "metadata": {},
     "output_type": "display_data"
    }
   ],
   "source": [
    "interact(f, x='Hello there');"
   ]
  },
  {
   "cell_type": "code",
   "execution_count": 80,
   "metadata": {},
   "outputs": [
    {
     "data": {
      "application/vnd.jupyter.widget-view+json": {
       "model_id": "9b00da8d0e8249d796776e481d32cb70",
       "version_major": 2,
       "version_minor": 0
      },
      "text/plain": [
       "interactive(children=(Checkbox(value=True, description='x'), Output()), _dom_classes=('widget-interact',))"
      ]
     },
     "metadata": {},
     "output_type": "display_data"
    }
   ],
   "source": [
    "interact(f, x=True);"
   ]
  },
  {
   "cell_type": "code",
   "execution_count": 81,
   "metadata": {},
   "outputs": [
    {
     "data": {
      "application/vnd.jupyter.widget-view+json": {
       "model_id": "cc075f985a2348f6b48be76ec058c19b",
       "version_major": 2,
       "version_minor": 0
      },
      "text/plain": [
       "interactive(children=(Dropdown(description='x', options=(1, 2, 3), value=1), Output()), _dom_classes=('widget-…"
      ]
     },
     "metadata": {},
     "output_type": "display_data"
    }
   ],
   "source": [
    "interact(f, x=[1,2,3]);"
   ]
  },
  {
   "cell_type": "code",
   "execution_count": 82,
   "metadata": {},
   "outputs": [
    {
     "data": {
      "application/vnd.jupyter.widget-view+json": {
       "model_id": "d9e8cf71f3684518b9cbd3108bc858cc",
       "version_major": 2,
       "version_minor": 0
      },
      "text/plain": [
       "interactive(children=(Dropdown(description='x', options={'one': 1, 'two': 2, 'three': 3}, value=1), Output()),…"
      ]
     },
     "metadata": {},
     "output_type": "display_data"
    }
   ],
   "source": [
    "interact(f, x={'one': 1, 'two': 2, 'three': 3});"
   ]
  },
  {
   "cell_type": "markdown",
   "metadata": {},
   "source": [
    "# widgets"
   ]
  },
  {
   "cell_type": "code",
   "execution_count": 83,
   "metadata": {},
   "outputs": [
    {
     "data": {
      "application/vnd.jupyter.widget-view+json": {
       "model_id": "c5a201ff373e41c98d9f586243b0e7f3",
       "version_major": 2,
       "version_minor": 0
      },
      "text/plain": [
       "IntSlider(value=0)"
      ]
     },
     "metadata": {},
     "output_type": "display_data"
    }
   ],
   "source": [
    "widgets.IntSlider()"
   ]
  },
  {
   "cell_type": "code",
   "execution_count": 84,
   "metadata": {},
   "outputs": [],
   "source": [
    "from IPython.display import display"
   ]
  },
  {
   "cell_type": "code",
   "execution_count": 92,
   "metadata": {},
   "outputs": [],
   "source": [
    "w = widgets.IntSlider()"
   ]
  },
  {
   "cell_type": "code",
   "execution_count": 94,
   "metadata": {},
   "outputs": [
    {
     "data": {
      "application/vnd.jupyter.widget-view+json": {
       "model_id": "29b8e40fc0c14bd68524b728a9792d46",
       "version_major": 2,
       "version_minor": 0
      },
      "text/plain": [
       "IntSlider(value=0)"
      ]
     },
     "metadata": {},
     "output_type": "display_data"
    }
   ],
   "source": [
    "display(w)"
   ]
  },
  {
   "cell_type": "code",
   "execution_count": 96,
   "metadata": {},
   "outputs": [
    {
     "data": {
      "text/plain": [
       "58"
      ]
     },
     "execution_count": 96,
     "metadata": {},
     "output_type": "execute_result"
    }
   ],
   "source": [
    "w.value"
   ]
  },
  {
   "cell_type": "code",
   "execution_count": 103,
   "metadata": {},
   "outputs": [],
   "source": [
    "w.value = 23"
   ]
  },
  {
   "cell_type": "code",
   "execution_count": 106,
   "metadata": {},
   "outputs": [],
   "source": [
    "w.min=3\n",
    "w.max=63"
   ]
  },
  {
   "cell_type": "code",
   "execution_count": 112,
   "metadata": {},
   "outputs": [
    {
     "name": "stdout",
     "output_type": "stream",
     "text": [
      "Layout\n",
      "Accordion\n",
      "Audio\n",
      "BoundedFloatText\n",
      "BoundedIntText\n",
      "Box\n",
      "Button\n",
      "ButtonStyle\n",
      "Checkbox\n",
      "ColorPicker\n",
      "Combobox\n",
      "ControllerAxis\n",
      "ControllerButton\n",
      "Controller\n",
      "DOMWidget\n",
      "DatePicker\n",
      "DescriptionStyle\n",
      "DirectionalLink\n",
      "Dropdown\n",
      "FileUpload\n",
      "FloatLogSlider\n",
      "FloatProgress\n",
      "FloatRangeSlider\n",
      "FloatSlider\n",
      "FloatText\n",
      "GridBox\n",
      "HBox\n",
      "HTMLMath\n",
      "HTML\n",
      "Image\n",
      "IntProgress\n",
      "IntRangeSlider\n",
      "IntSlider\n",
      "IntText\n",
      "Label\n",
      "Link\n",
      "Password\n",
      "Play\n",
      "ProgressStyle\n",
      "RadioButtons\n",
      "Select\n",
      "SelectMultiple\n",
      "SelectionRangeSlider\n",
      "SelectionSlider\n",
      "SliderStyle\n",
      "Tab\n",
      "Text\n",
      "Textarea\n",
      "ToggleButton\n",
      "ToggleButtons\n",
      "ToggleButtonsStyle\n",
      "VBox\n",
      "Valid\n",
      "Video\n",
      "Output\n"
     ]
    }
   ],
   "source": [
    "for i in widgets.Widget.widget_types.items():\n",
    "    print(i[0][2][:-5])"
   ]
  },
  {
   "cell_type": "code",
   "execution_count": 123,
   "metadata": {},
   "outputs": [
    {
     "data": {
      "application/vnd.jupyter.widget-view+json": {
       "model_id": "efa88b566a1c4e7a834c34776d439ee0",
       "version_major": 2,
       "version_minor": 0
      },
      "text/plain": [
       "Button(description='Poga', style=ButtonStyle())"
      ]
     },
     "metadata": {},
     "output_type": "display_data"
    },
    {
     "name": "stdout",
     "output_type": "stream",
     "text": [
      "hello\n",
      "hello\n",
      "hello\n",
      "hello\n",
      "hello\n",
      "hello\n"
     ]
    }
   ],
   "source": [
    "def say_hello(b):\n",
    "    print(\"hello\")\n",
    "\n",
    "b = widgets.Button(description=\"Poga\")\n",
    "display(b)\n",
    "b.on_click(say_hello)"
   ]
  },
  {
   "cell_type": "code",
   "execution_count": 124,
   "metadata": {},
   "outputs": [
    {
     "data": {
      "application/vnd.jupyter.widget-view+json": {
       "model_id": "ff4e9fd99f8a42bfa3787bd2df4ad5e2",
       "version_major": 2,
       "version_minor": 0
      },
      "text/plain": [
       "HBox(children=(Button(description='Poga', style=ButtonStyle()), IntSlider(value=23, max=63, min=3, step=10)))"
      ]
     },
     "metadata": {},
     "output_type": "display_data"
    },
    {
     "name": "stdout",
     "output_type": "stream",
     "text": [
      "hello\n",
      "hello\n",
      "hello\n"
     ]
    }
   ],
   "source": [
    "widgets.HBox([b, w])"
   ]
  },
  {
   "cell_type": "code",
   "execution_count": 126,
   "metadata": {},
   "outputs": [
    {
     "data": {
      "application/vnd.jupyter.widget-view+json": {
       "model_id": "bcbc2c6c666d4dd9b4748225e5e3109f",
       "version_major": 2,
       "version_minor": 0
      },
      "text/plain": [
       "VBox(children=(Button(description='Poga', style=ButtonStyle()), IntSlider(value=13, max=63, min=3, step=10)))"
      ]
     },
     "metadata": {},
     "output_type": "display_data"
    }
   ],
   "source": [
    "widgets.VBox([b, w])"
   ]
  },
  {
   "cell_type": "code",
   "execution_count": 120,
   "metadata": {},
   "outputs": [],
   "source": []
  },
  {
   "cell_type": "code",
   "execution_count": null,
   "metadata": {},
   "outputs": [],
   "source": []
  }
 ],
 "metadata": {
  "kernelspec": {
   "display_name": "Python 3",
   "language": "python",
   "name": "python3"
  },
  "language_info": {
   "codemirror_mode": {
    "name": "ipython",
    "version": 3
   },
   "file_extension": ".py",
   "mimetype": "text/x-python",
   "name": "python",
   "nbconvert_exporter": "python",
   "pygments_lexer": "ipython3",
   "version": "3.7.3"
  }
 },
 "nbformat": 4,
 "nbformat_minor": 2
}
