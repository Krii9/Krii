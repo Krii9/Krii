{
 "cells": [
  {
   "cell_type": "code",
   "execution_count": 6,
   "metadata": {},
   "outputs": [
    {
     "data": {
      "application/vnd.jupyter.widget-view+json": {
       "model_id": "c2513d5991674d35b09574b1570e4ceb",
       "version_major": 2,
       "version_minor": 0
      },
      "text/plain": [
       "VBox(children=(Button(description='Ievadi informāciju', style=ButtonStyle()),))"
      ]
     },
     "metadata": {},
     "output_type": "display_data"
    },
    {
     "data": {
      "application/vnd.jupyter.widget-view+json": {
       "model_id": "128ea16e77cd45e4be6230f0062cbae5",
       "version_major": 2,
       "version_minor": 0
      },
      "text/plain": [
       "HBox()"
      ]
     },
     "metadata": {},
     "output_type": "display_data"
    },
    {
     "data": {
      "text/plain": [
       "'3ssdfsfsf'"
      ]
     },
     "metadata": {},
     "output_type": "display_data"
    }
   ],
   "source": [
    "import ipywidgets as widgets\n",
    "from IPython.display import display\n",
    "import time\n",
    "import random\n",
    "from IPython.display import clear_output\n",
    "\n",
    "\n",
    "Info_poga=widgets.Button(description='Ievadi informāciju')\n",
    "\n",
    "Vards_teksts=widgets.Text(description=\"Jūsu vārds\")\n",
    "Varda_poga=widgets.Button(description=\"Apstiprināt vardu\")\n",
    "\n",
    "Uzvarda_teksts=widgets.Text(description=\"Jūsu Uzvards\")\n",
    "Uzvarda_poga=widgets.Button(description=\"Apstiprināt uzvardu\")\n",
    "Teksts_pamata=['1sdfsdfsdf',\"2asfsdfsad\", '3ssdfsfsf']\n",
    "\n",
    "Adreses_teksts=widgets.Text(description=\"Jūsu adrese\")\n",
    "Adreses_poga=widgets.Button(description=\"Apstiprināt adresi\")\n",
    "\n",
    "Apstiprina_poga=widgets.Button(description=\"Paldis par info\")\n",
    "Break_sim=widgets.Button(description='Break',button_style='danger')\n",
    "Atgriesties=widgets.Button(description='Turpināt', button_style='info')\n",
    "Ar_atgriesanos=widgets.Button(description=\"Ar atgriešanos\")\n",
    "\n",
    "Info=''\n",
    "Vards= ''\n",
    "Uzvards=''\n",
    "Adrese=''\n",
    "Ans=''\n",
    "vb = widgets.VBox()\n",
    "hb=widgets.HBox()\n",
    "\n",
    "    \n",
    "def info_poga_1(z):\n",
    "    global Info\n",
    "    vb.children = [Vards_teksts, Varda_poga]\n",
    "def Varda_poga_1(z):\n",
    "    global vards\n",
    "    vards = Vards_teksts.value\n",
    "    vb.children = [Uzvarda_teksts, Uzvarda_poga]\n",
    "    \n",
    "def Uzvarda_poga_1(z):\n",
    "    global Uzvards\n",
    "    Uzvards = Uzvarda_teksts.value\n",
    "    vb.children = [Adreses_teksts, Adreses_poga]\n",
    "def Adreses_poga_1(z):\n",
    "    global Adrese\n",
    "    Adrese= Adreses_teksts.value\n",
    "    vb.children = [Apstiprina_poga]\n",
    "    time.sleep(2)\n",
    "    display(random.choice(Teksts_pamata))\n",
    "    time.sleep(2)\n",
    "    hb.children= [Break_sim, Atgriesties]\n",
    "    \n",
    "    \n",
    "def ans(z):\n",
    "    \n",
    "    for i in range(0,10):\n",
    "        clear_output()\n",
    "        display (42)\n",
    "        time.sleep(1)\n",
    "        \n",
    "def ar_a (z):\n",
    "    global atgriešanas\n",
    "    hb.children= [Ar_atgriesanos]\n",
    "\n",
    "Info_poga.on_click(info_poga_1)\n",
    "Varda_poga.on_click(Varda_poga_1)\n",
    "Uzvarda_poga.on_click(Uzvarda_poga_1)\n",
    "Adreses_poga.on_click(Adreses_poga_1)\n",
    "Atgriesties.on_click(ar_a) \n",
    "Break_sim.on_click(ans)\n",
    "Ar_atgriesanos.on_click(info_poga_1)\n",
    "\n",
    "vb.children = [Info_poga]\n",
    "\n",
    "display(vb)\n",
    "\n",
    "display(hb)\n",
    "\n",
    "\n",
    "##notirit ievadito tekstu jaunaja riņķi\n"
   ]
  }
 ],
 "metadata": {
  "kernelspec": {
   "display_name": "Python 3",
   "language": "python",
   "name": "python3"
  },
  "language_info": {
   "codemirror_mode": {
    "name": "ipython",
    "version": 3
   },
   "file_extension": ".py",
   "mimetype": "text/x-python",
   "name": "python",
   "nbconvert_exporter": "python",
   "pygments_lexer": "ipython3",
   "version": "3.7.3"
  }
 },
 "nbformat": 4,
 "nbformat_minor": 2
}
